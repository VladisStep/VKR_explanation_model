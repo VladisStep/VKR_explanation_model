{
 "cells": [
  {
   "cell_type": "markdown",
   "metadata": {},
   "source": [
    "Shap по созданной модели"
   ]
  },
  {
   "cell_type": "code",
   "execution_count": 1,
   "metadata": {
    "pycharm": {
     "name": "#%%\n"
    }
   },
   "outputs": [
    {
     "name": "stderr",
     "output_type": "stream",
     "text": [
      "Using 748 background data samples could cause slower run times. Consider using shap.sample(data, K) or shap.kmeans(data, K) to summarize the background as K samples.\n"
     ]
    },
    {
     "name": "stdout",
     "output_type": "stream",
     "text": [
      "X_train shape =  (748, 754)\n",
      "X_test shape =  (8, 754)\n",
      "1\n",
      "2\n",
      "3\n",
      "4\n"
     ]
    }
   ],
   "source": [
    "import pandas as pd\n",
    "import shap\n",
    "from sklearn import preprocessing\n",
    "from sklearn.model_selection import train_test_split\n",
    "from joblib import load\n",
    "\n",
    "df = pd.read_csv(\"../../pd_speech_features.csv\")  # import dataset\n",
    "\n",
    "X = df.iloc[:, 0:754]  # select the independent variables\n",
    "y = df.iloc[:, 754]  # select the dependent variable and target column\n",
    "\n",
    "# normalize\n",
    "x = X.values\n",
    "min_max_scaler = preprocessing.MinMaxScaler()\n",
    "x_scaled = min_max_scaler.fit_transform(x)\n",
    "X = pd.DataFrame(x_scaled)\n",
    "\n",
    "X_train, X_test, y_train, y_test = train_test_split(X, y, test_size=0.01, random_state=0)\n",
    "print(\"X_train shape = \", X_train.shape)\n",
    "print(\"X_test shape = \", X_test.shape)\n",
    "\n",
    "classifier = load('filename.joblib')\n",
    "\n",
    "row_to_show = 5\n",
    "data_for_prediction = X_test.iloc[row_to_show]  # use 1 row of data here. Could use multiple rows if desired\n",
    "print('1')\n",
    "data_for_prediction_array = data_for_prediction.values.reshape(1, -1)\n",
    "print('2')\n",
    "\n",
    "classifier.predict_proba(data_for_prediction_array)\n",
    "\n",
    "# Create object that can calculate shap values\n",
    "explainer = shap.KernelExplainer(classifier.predict_proba, X_train)\n",
    "print('3')\n",
    "\n",
    "# Calculate Shap values\n",
    "shap_values = explainer.shap_values(data_for_prediction, nsamples=1)\n",
    "print('4')\n",
    "\n",
    "shap.initjs()\n",
    "shap.force_plot(explainer.expected_value[1], shap_values[1], data_for_prediction)\n",
    "\n",
    "# # use Kernel SHAP to explain test set predictions\n",
    "# print(X_test.iloc[0, :])\n",
    "# shap.initjs()\n",
    "# explainer = shap.KernelExplainer(classifier.predict_proba, X_train)\n",
    "# shap_values = explainer.shap_values(X_test, nsamples=1)\n",
    "#\n",
    "# # plot the SHAP values for the Setosa output of the first instance\n",
    "# shap.force_plot(explainer.expected_value[1], shap_values[1][0, :], X_test.iloc[1, :])"
   ]
  },
  {
   "cell_type": "code",
   "execution_count": 1,
   "metadata": {},
   "outputs": [],
   "source": []
  }
 ],
 "metadata": {
  "kernelspec": {
   "display_name": "Python 3 (ipykernel)",
   "language": "python",
   "name": "python3"
  },
  "language_info": {
   "codemirror_mode": {
    "name": "ipython",
    "version": 3
   },
   "file_extension": ".py",
   "mimetype": "text/x-python",
   "name": "python",
   "nbconvert_exporter": "python",
   "pygments_lexer": "ipython3",
   "version": "3.8.6"
  }
 },
 "nbformat": 4,
 "nbformat_minor": 1
}