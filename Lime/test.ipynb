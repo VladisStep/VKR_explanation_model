{
 "cells": [
  {
   "cell_type": "code",
   "execution_count": null,
   "metadata": {
    "collapsed": true,
    "pycharm": {
     "is_executing": true
    }
   },
   "outputs": [],
   "source": [
    "from keras.applications.xception import Xception\n",
    "from keras.preprocessing import image\n",
    "from keras.applications.xception import preprocess_input, decode_predictions\n",
    "import numpy as np\n",
    "import tensorflow as tf\n",
    "\n",
    "import eli5\n",
    "\n",
    "tf.compat.v1.disable_eager_execution()\n",
    "import PIL\n",
    "from PIL import Image\n",
    "import requests\n",
    "from io import BytesIO\n",
    "\n",
    "\n",
    "\n",
    "# load the model\n",
    "model = Xception(weights='imagenet', include_top=True)\n",
    "\n",
    "# chose the URL image that you want\n",
    "URL = \"https://images.unsplash.com/photo-1529429617124-95b109e86bb8?ixlib=rb-1.2.1&amp;ixid=eyJhcHBfaWQiOjEyMDd9&amp;auto=format&amp;fit=crop&amp;w=500&amp;q=60\"\n",
    "# get the image\n",
    "response = requests.get(URL)\n",
    "img = Image.open(BytesIO(response.content))\n",
    "# resize the image according to each model (see documentation of each model)\n",
    "img = img.resize((299, 299))\n",
    "\n",
    "# convert to numpy array\n",
    "x = image.img_to_array(img)\n",
    "x = np.expand_dims(x, axis=0)\n",
    "x = preprocess_input(x)\n",
    "\n",
    "features = model.predict(x)\n",
    "\n",
    "# return the top 20 detected objects\n",
    "label = decode_predictions(features, top=20)\n",
    "\n",
    "np.argsort(features)[0, ::-1][:10]\n",
    "\n",
    "eli5.show_prediction(model, x, targets=[905])\n",
    "\n",
    "eli5.show_prediction(model, x, targets=[424])"
   ]
  }
 ],
 "metadata": {
  "kernelspec": {
   "display_name": "Python 3 (ipykernel)",
   "language": "python",
   "name": "python3"
  },
  "language_info": {
   "codemirror_mode": {
    "name": "ipython",
    "version": 3
   },
   "file_extension": ".py",
   "mimetype": "text/x-python",
   "name": "python",
   "nbconvert_exporter": "python",
   "pygments_lexer": "ipython3",
   "version": "3.9.6"
  }
 },
 "nbformat": 4,
 "nbformat_minor": 1
}
